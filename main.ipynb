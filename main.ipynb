{
 "cells": [
  {
   "cell_type": "code",
   "execution_count": null,
   "metadata": {},
   "outputs": [],
   "source": [
    "import pandas as pd;\n",
    "\n",
    "table = pd.read_csv(\"/home/mannelli/projects/Basics-of-Python/Insights/terminations.csv\")\n",
    "table = table.drop(columns=\"CustomerID\")\n",
    "\n",
    "display(table)"
   ]
  },
  {
   "cell_type": "code",
   "execution_count": null,
   "metadata": {},
   "outputs": [],
   "source": [
    "\n",
    "#? drops every line that is not completly filled (has an empty value at any column)\n",
    "table = table.dropna()\n",
    "\n",
    "display(table.info())\n",
    "\n",
    "#? shows how many of each different value there is in inside the column \"cancelou\"\n",
    "print(table[\"cancelou\"].value_counts())\n",
    "#? \"normalize\" shows it in proportion of 0-1 (percentage)\n",
    "print(table[\"cancelou\"].value_counts(normalize=True))\n",
    "\n",
    "#? the grafics show that more then half of the clients cancel their subscription"
   ]
  },
  {
   "cell_type": "code",
   "execution_count": null,
   "metadata": {},
   "outputs": [],
   "source": [
    "\n",
    "import plotly.express as px\n",
    "\n",
    "#? the loop iterates the table and creates a histogram for each column and intersect them by color to the column that represents the users who canceled the subscription\n",
    "for column in table.columns:\n",
    "  if column != \"cancelou\":\n",
    "    grafic = px.histogram(table, x=column, color=\"cancelou\")\n",
    "\n",
    "    grafic.show();\n"
   ]
  },
  {
   "cell_type": "code",
   "execution_count": null,
   "metadata": {},
   "outputs": [],
   "source": [
    "\n",
    "#! the table[table[]] usage is basic a for inside a for, when you first to table[] you iterate the lines and table[table[]] iterates the values of the selected columns\n",
    "#* The relevant grafics (the ones that can have actual solutions) shows that:\n",
    "\n",
    "#? every montly subscrition gets canceled; if this issue is solved:\n",
    "table = table[table[\"duracao_contrato\"] != \"Monthly\"]\n",
    "\n",
    "#? everyone that contact the call center over 4 times cancels; if this issue is solved:\n",
    "table = table[table[\"ligacoes_callcenter\"] <= 4]\n",
    "\n",
    "#? everyone that postpone their payment for over 20 days cancels; if this issue is solved:\n",
    "table = table[table[\"dias_atraso\"] <= 20]\n",
    "\n",
    "display(table[\"cancelou\"].value_counts(normalize=True))\n",
    "display(table[\"cancelou\"].value_counts(normalize=True).map(\"{:.1%}\".format))"
   ]
  }
 ],
 "metadata": {
  "kernelspec": {
   "display_name": "Python 3",
   "language": "python",
   "name": "python3"
  },
  "language_info": {
   "codemirror_mode": {
    "name": "ipython",
    "version": 3
   },
   "file_extension": ".py",
   "mimetype": "text/x-python",
   "name": "python",
   "nbconvert_exporter": "python",
   "pygments_lexer": "ipython3",
   "version": "3.10.12"
  }
 },
 "nbformat": 4,
 "nbformat_minor": 2
}
